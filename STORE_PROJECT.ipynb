{
 "cells": [
  {
   "cell_type": "markdown",
   "id": "9a98f9b0",
   "metadata": {},
   "source": [
    "==>Project Description\n",
    "\n",
    "==>You will start to sell items from the awesome store you implement\n",
    "  in Python in this project.\n",
    "==>You count items sold, i.e. if you sell the three following items.\n",
    "1.apple\n",
    "2.banana\n",
    "3.orange\n",
    "==>To keep track of how many items you sell, you can use a\n",
    "  dictionary.\n",
    "==>The dictionary can use the items as keys, and the number of sold\n",
    "  items as the value.\n",
    "  sold_items = {'apple': 0}"
   ]
  },
  {
   "cell_type": "code",
   "execution_count": 1,
   "id": "fddedc4b",
   "metadata": {},
   "outputs": [],
   "source": [
    "#we use dictnary \n",
    "sold_items={}"
   ]
  },
  {
   "cell_type": "code",
   "execution_count": 6,
   "id": "3be27f33",
   "metadata": {},
   "outputs": [
    {
     "name": "stdout",
     "output_type": "stream",
     "text": [
      "What do you want to buy ? apple\n",
      "how many do you want?5\n",
      "appale 5\n",
      "orange 7\n",
      "banana 12\n",
      "apple 5\n"
     ]
    }
   ],
   "source": [
    "item=input('What do you want to buy ? ')\n",
    "number_str=input('how many do you want?')\n",
    "number=int(number_str)\n",
    "sold_items[item]=sold_items.get(item,0) + number \n",
    "#All you need is to print the key-value pairs from the dictionary\n",
    "for item, number in sold_items.items():\n",
    "      print(item, number)\n",
    "\n",
    "\n"
   ]
  },
  {
   "cell_type": "code",
   "execution_count": null,
   "id": "955ff881",
   "metadata": {},
   "outputs": [],
   "source": []
  },
  {
   "cell_type": "code",
   "execution_count": null,
   "id": "31932e6d",
   "metadata": {},
   "outputs": [],
   "source": []
  }
 ],
 "metadata": {
  "kernelspec": {
   "display_name": "Python 3 (ipykernel)",
   "language": "python",
   "name": "python3"
  },
  "language_info": {
   "codemirror_mode": {
    "name": "ipython",
    "version": 3
   },
   "file_extension": ".py",
   "mimetype": "text/x-python",
   "name": "python",
   "nbconvert_exporter": "python",
   "pygments_lexer": "ipython3",
   "version": "3.11.2"
  }
 },
 "nbformat": 4,
 "nbformat_minor": 5
}
